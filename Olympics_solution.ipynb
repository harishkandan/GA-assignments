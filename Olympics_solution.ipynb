{
 "cells": [
  {
   "cell_type": "code",
   "execution_count": 1,
   "metadata": {
    "collapsed": true
   },
   "outputs": [],
   "source": [
    "import pandas as pd\n",
    "import re\n",
    "from sklearn.cluster import KMeans\n",
    "import matplotlib.pyplot as plt\n",
    "%matplotlib inline"
   ]
  },
  {
   "cell_type": "code",
   "execution_count": 2,
   "metadata": {
    "collapsed": true
   },
   "outputs": [],
   "source": [
    "def load_data():\n",
    "    olympics = pd.read_csv('files/olympics.csv', skiprows = 1, encoding = 'utf-8')\n",
    "    olympics.rename(columns = {'Unnamed: 0':'Country_name'}, inplace = True)\n",
    "    for i in olympics.columns:\n",
    "        if bool(re.match(\".*01 !.*\", i)):\n",
    "            olympics.rename(columns = {i:re.sub('01 !', 'Gold', i)}, inplace = True)\n",
    "        elif bool(re.match(\".*02 !.*\", i)):\n",
    "            olympics.rename(columns = {i:re.sub('02 !', 'Silver', i)}, inplace = True)\n",
    "        elif bool(re.match(\".*03 !.*\", i)):\n",
    "            olympics.rename(columns = {i:re.sub('03 !', 'Bronze', i)}, inplace = True)\n",
    "    olympics['Country_name'] = olympics['Country_name'].apply(lambda x: x.split(\"\\xa0\")[0])\n",
    "    olympics.index = olympics['Country_name']\n",
    "    olympics.drop(\"Totals\", axis = 0, inplace = True)\n",
    "    return olympics\n",
    "\n",
    "def first_country(df):\n",
    "    return df.iloc[0,:]\n",
    "\n",
    "def gold_medal(df):\n",
    "    return df['Country_name'][df['Gold.2'] == df['Gold.2'].max()][0]\n",
    "\n",
    "\n",
    "def biggest_difference_in_gold_medal(df):\n",
    "    return df['Country_name'][abs(df['Total'] - df['Total.1']) == abs(df['Total'] - df['Total.1']).max()][0]\n",
    "\n",
    "def get_points(df):\n",
    "    df['points'] = (df['Gold.2'] * 3 + df['Silver.2'] * 2 + df['Bronze.2'])\n",
    "    return df['points']\n",
    "\n",
    "def k_means_errors(df):\n",
    "    no_of_clusters_and_errors = []\n",
    "    for i in range(2, 10):\n",
    "        km = KMeans(n_clusters = i, init = 'k-means++').fit(df.iloc[:, 1:])\n",
    "        no_of_clusters_and_errors.append((i, km.inertia_))\n",
    "    return no_of_clusters_and_errors\n",
    "\n",
    "def k_means(df, no_of_clusters):\n",
    "    km = KMeans(n_clusters = no_of_clusters, init = 'k-means++').fit(df.iloc[:, 1:])\n",
    "    return km.cluster_centers_"
   ]
  },
  {
   "cell_type": "markdown",
   "metadata": {},
   "source": [
    "# Loaded and preprocessed dataframe"
   ]
  },
  {
   "cell_type": "code",
   "execution_count": 3,
   "metadata": {},
   "outputs": [
    {
     "data": {
      "text/html": [
       "<div>\n",
       "<style>\n",
       "    .dataframe thead tr:only-child th {\n",
       "        text-align: right;\n",
       "    }\n",
       "\n",
       "    .dataframe thead th {\n",
       "        text-align: left;\n",
       "    }\n",
       "\n",
       "    .dataframe tbody tr th {\n",
       "        vertical-align: top;\n",
       "    }\n",
       "</style>\n",
       "<table border=\"1\" class=\"dataframe\">\n",
       "  <thead>\n",
       "    <tr style=\"text-align: right;\">\n",
       "      <th></th>\n",
       "      <th>Country_name</th>\n",
       "      <th># Summer</th>\n",
       "      <th>Gold</th>\n",
       "      <th>Silver</th>\n",
       "      <th>Bronze</th>\n",
       "      <th>Total</th>\n",
       "      <th># Winter</th>\n",
       "      <th>Gold.1</th>\n",
       "      <th>Silver.1</th>\n",
       "      <th>Bronze.1</th>\n",
       "      <th>Total.1</th>\n",
       "      <th># Games</th>\n",
       "      <th>Gold.2</th>\n",
       "      <th>Silver.2</th>\n",
       "      <th>Bronze.2</th>\n",
       "      <th>Combined total</th>\n",
       "    </tr>\n",
       "    <tr>\n",
       "      <th>Country_name</th>\n",
       "      <th></th>\n",
       "      <th></th>\n",
       "      <th></th>\n",
       "      <th></th>\n",
       "      <th></th>\n",
       "      <th></th>\n",
       "      <th></th>\n",
       "      <th></th>\n",
       "      <th></th>\n",
       "      <th></th>\n",
       "      <th></th>\n",
       "      <th></th>\n",
       "      <th></th>\n",
       "      <th></th>\n",
       "      <th></th>\n",
       "      <th></th>\n",
       "    </tr>\n",
       "  </thead>\n",
       "  <tbody>\n",
       "    <tr>\n",
       "      <th>Afghanistan</th>\n",
       "      <td>Afghanistan</td>\n",
       "      <td>13</td>\n",
       "      <td>0</td>\n",
       "      <td>0</td>\n",
       "      <td>2</td>\n",
       "      <td>2</td>\n",
       "      <td>0</td>\n",
       "      <td>0</td>\n",
       "      <td>0</td>\n",
       "      <td>0</td>\n",
       "      <td>0</td>\n",
       "      <td>13</td>\n",
       "      <td>0</td>\n",
       "      <td>0</td>\n",
       "      <td>2</td>\n",
       "      <td>2</td>\n",
       "    </tr>\n",
       "    <tr>\n",
       "      <th>Algeria</th>\n",
       "      <td>Algeria</td>\n",
       "      <td>12</td>\n",
       "      <td>5</td>\n",
       "      <td>2</td>\n",
       "      <td>8</td>\n",
       "      <td>15</td>\n",
       "      <td>3</td>\n",
       "      <td>0</td>\n",
       "      <td>0</td>\n",
       "      <td>0</td>\n",
       "      <td>0</td>\n",
       "      <td>15</td>\n",
       "      <td>5</td>\n",
       "      <td>2</td>\n",
       "      <td>8</td>\n",
       "      <td>15</td>\n",
       "    </tr>\n",
       "    <tr>\n",
       "      <th>Argentina</th>\n",
       "      <td>Argentina</td>\n",
       "      <td>23</td>\n",
       "      <td>18</td>\n",
       "      <td>24</td>\n",
       "      <td>28</td>\n",
       "      <td>70</td>\n",
       "      <td>18</td>\n",
       "      <td>0</td>\n",
       "      <td>0</td>\n",
       "      <td>0</td>\n",
       "      <td>0</td>\n",
       "      <td>41</td>\n",
       "      <td>18</td>\n",
       "      <td>24</td>\n",
       "      <td>28</td>\n",
       "      <td>70</td>\n",
       "    </tr>\n",
       "    <tr>\n",
       "      <th>Armenia</th>\n",
       "      <td>Armenia</td>\n",
       "      <td>5</td>\n",
       "      <td>1</td>\n",
       "      <td>2</td>\n",
       "      <td>9</td>\n",
       "      <td>12</td>\n",
       "      <td>6</td>\n",
       "      <td>0</td>\n",
       "      <td>0</td>\n",
       "      <td>0</td>\n",
       "      <td>0</td>\n",
       "      <td>11</td>\n",
       "      <td>1</td>\n",
       "      <td>2</td>\n",
       "      <td>9</td>\n",
       "      <td>12</td>\n",
       "    </tr>\n",
       "    <tr>\n",
       "      <th>Australasia</th>\n",
       "      <td>Australasia</td>\n",
       "      <td>2</td>\n",
       "      <td>3</td>\n",
       "      <td>4</td>\n",
       "      <td>5</td>\n",
       "      <td>12</td>\n",
       "      <td>0</td>\n",
       "      <td>0</td>\n",
       "      <td>0</td>\n",
       "      <td>0</td>\n",
       "      <td>0</td>\n",
       "      <td>2</td>\n",
       "      <td>3</td>\n",
       "      <td>4</td>\n",
       "      <td>5</td>\n",
       "      <td>12</td>\n",
       "    </tr>\n",
       "  </tbody>\n",
       "</table>\n",
       "</div>"
      ],
      "text/plain": [
       "             Country_name  # Summer  Gold  Silver  Bronze  Total  # Winter  \\\n",
       "Country_name                                                                 \n",
       "Afghanistan   Afghanistan        13     0       0       2      2         0   \n",
       "Algeria           Algeria        12     5       2       8     15         3   \n",
       "Argentina       Argentina        23    18      24      28     70        18   \n",
       "Armenia           Armenia         5     1       2       9     12         6   \n",
       "Australasia   Australasia         2     3       4       5     12         0   \n",
       "\n",
       "              Gold.1  Silver.1  Bronze.1  Total.1  # Games  Gold.2  Silver.2  \\\n",
       "Country_name                                                                   \n",
       "Afghanistan        0         0         0        0       13       0         0   \n",
       "Algeria            0         0         0        0       15       5         2   \n",
       "Argentina          0         0         0        0       41      18        24   \n",
       "Armenia            0         0         0        0       11       1         2   \n",
       "Australasia        0         0         0        0        2       3         4   \n",
       "\n",
       "              Bronze.2  Combined total  \n",
       "Country_name                            \n",
       "Afghanistan          2               2  \n",
       "Algeria              8              15  \n",
       "Argentina           28              70  \n",
       "Armenia              9              12  \n",
       "Australasia          5              12  "
      ]
     },
     "execution_count": 3,
     "metadata": {},
     "output_type": "execute_result"
    }
   ],
   "source": [
    "olympics_data = load_data()\n",
    "olympics_data.head()"
   ]
  },
  {
   "cell_type": "markdown",
   "metadata": {},
   "source": [
    "# Details of the first country in the dataframe."
   ]
  },
  {
   "cell_type": "code",
   "execution_count": 4,
   "metadata": {},
   "outputs": [
    {
     "data": {
      "text/plain": [
       "Country_name      Afghanistan\n",
       "# Summer                   13\n",
       "Gold                        0\n",
       "Silver                      0\n",
       "Bronze                      2\n",
       "Total                       2\n",
       "# Winter                    0\n",
       "Gold.1                      0\n",
       "Silver.1                    0\n",
       "Bronze.1                    0\n",
       "Total.1                     0\n",
       "# Games                    13\n",
       "Gold.2                      0\n",
       "Silver.2                    0\n",
       "Bronze.2                    2\n",
       "Combined total              2\n",
       "Name: Afghanistan, dtype: object"
      ]
     },
     "execution_count": 4,
     "metadata": {},
     "output_type": "execute_result"
    }
   ],
   "source": [
    "first_country(olympics_data)"
   ]
  },
  {
   "cell_type": "markdown",
   "metadata": {},
   "source": [
    "# Country with most gold medals"
   ]
  },
  {
   "cell_type": "code",
   "execution_count": 5,
   "metadata": {},
   "outputs": [
    {
     "data": {
      "text/plain": [
       "'United States'"
      ]
     },
     "execution_count": 5,
     "metadata": {},
     "output_type": "execute_result"
    }
   ],
   "source": [
    "gold_medal(olympics_data)"
   ]
  },
  {
   "cell_type": "markdown",
   "metadata": {},
   "source": [
    "# Country with biggest difference between their summer and winter gold medal counts"
   ]
  },
  {
   "cell_type": "code",
   "execution_count": 6,
   "metadata": {},
   "outputs": [
    {
     "data": {
      "text/plain": [
       "'United States'"
      ]
     },
     "execution_count": 6,
     "metadata": {},
     "output_type": "execute_result"
    }
   ],
   "source": [
    "biggest_difference_in_gold_medal(olympics_data)"
   ]
  },
  {
   "cell_type": "markdown",
   "metadata": {},
   "source": [
    "# Weighted points for each country\n",
    "### One gold medal counts for 3 points\n",
    "### One silver medal counts for 2 points\n",
    "### Onr bronze medal counts for 1 point"
   ]
  },
  {
   "cell_type": "code",
   "execution_count": 7,
   "metadata": {},
   "outputs": [
    {
     "data": {
      "text/plain": [
       "Country_name\n",
       "Afghanistan                            2\n",
       "Algeria                               27\n",
       "Argentina                            130\n",
       "Armenia                               16\n",
       "Australasia                           22\n",
       "Australia                            923\n",
       "Austria                              569\n",
       "Azerbaijan                            43\n",
       "Bahamas                               24\n",
       "Bahrain                                1\n",
       "Barbados                               1\n",
       "Belarus                              154\n",
       "Belgium                              276\n",
       "Bermuda                                1\n",
       "Bohemia                                5\n",
       "Botswana                               2\n",
       "Brazil                               184\n",
       "British West Indies                    2\n",
       "Bulgaria                             411\n",
       "Burundi                                3\n",
       "Cameroon                              12\n",
       "Canada                               846\n",
       "Chile                                 24\n",
       "China                               1120\n",
       "Colombia                              29\n",
       "Costa Rica                             7\n",
       "Ivory Coast                            2\n",
       "Croatia                               67\n",
       "Cuba                                 420\n",
       "Cyprus                                 2\n",
       "                                    ... \n",
       "Spain                                268\n",
       "Sri Lanka                              4\n",
       "Sudan                                  2\n",
       "Suriname                               4\n",
       "Sweden                              1217\n",
       "Switzerland                          630\n",
       "Syria                                  6\n",
       "Chinese Taipei                        32\n",
       "Tajikistan                             4\n",
       "Tanzania                               4\n",
       "Thailand                              44\n",
       "Togo                                   1\n",
       "Tonga                                  2\n",
       "Trinidad and Tobago                   27\n",
       "Tunisia                               19\n",
       "Turkey                               191\n",
       "Uganda                                14\n",
       "Ukraine                              220\n",
       "United Arab Emirates                   3\n",
       "United States                       5684\n",
       "Uruguay                               16\n",
       "Uzbekistan                            38\n",
       "Venezuela                             18\n",
       "Vietnam                                4\n",
       "Virgin Islands                         2\n",
       "Yugoslavia                           171\n",
       "Independent Olympic Participants       4\n",
       "Zambia                                 3\n",
       "Zimbabwe                              18\n",
       "Mixed team                            38\n",
       "Name: points, Length: 146, dtype: int64"
      ]
     },
     "execution_count": 7,
     "metadata": {},
     "output_type": "execute_result"
    }
   ],
   "source": [
    "get_points(olympics_data)"
   ]
  },
  {
   "cell_type": "markdown",
   "metadata": {},
   "source": [
    "# The elbow method is used to determine the number of clusters in k-means clustering"
   ]
  },
  {
   "cell_type": "code",
   "execution_count": 8,
   "metadata": {
    "collapsed": true
   },
   "outputs": [],
   "source": [
    "no_of_clusters_errors = k_means_errors(olympics_data)"
   ]
  },
  {
   "cell_type": "code",
   "execution_count": 9,
   "metadata": {
    "collapsed": true
   },
   "outputs": [],
   "source": [
    "x, y = zip(*no_of_clusters_errors)"
   ]
  },
  {
   "cell_type": "code",
   "execution_count": 10,
   "metadata": {
    "scrolled": true
   },
   "outputs": [
    {
     "data": {
      "text/plain": [
       "[<matplotlib.lines.Line2D at 0x19c4320fef0>]"
      ]
     },
     "execution_count": 10,
     "metadata": {},
     "output_type": "execute_result"
    },
    {
     "data": {
      "image/png": "[encoded data removed]",
      "text/plain": [
       "<matplotlib.figure.Figure at 0x19c4301a208>"
      ]
     },
     "metadata": {},
     "output_type": "display_data"
    }
   ],
   "source": [
    "plt.xlabel('Number of clusters')\n",
    "plt.ylabel('Error')\n",
    "plt.plot(x, y)"
   ]
  },
  {
   "cell_type": "markdown",
   "metadata": {},
   "source": [
    "It can observed the squared distance of the samples from their cluster centers from k = 5 is approximately the same\n",
    "\n",
    "Thus the value of k can be taken as 5\n",
    "\n",
    "For k = 5, the cluster centers are as follows. "
   ]
  },
  {
   "cell_type": "code",
   "execution_count": 11,
   "metadata": {},
   "outputs": [
    {
     "data": {
      "text/plain": [
       "array([[  1.18695652e+01,   4.81739130e+00,   5.68695652e+00,\n",
       "          7.73043478e+00,   1.82347826e+01,   4.04347826e+00,\n",
       "          2.69565217e-01,   3.82608696e-01,   3.65217391e-01,\n",
       "          1.01739130e+00,   1.59130435e+01,   5.08695652e+00,\n",
       "          6.06956522e+00,   8.09565217e+00,   1.92521739e+01,\n",
       "          3.54956522e+01],\n",
       "       [  1.95000000e+01,   2.51750000e+02,   2.49000000e+02,\n",
       "          2.57750000e+02,   7.58500000e+02,   1.60000000e+01,\n",
       "          4.92500000e+01,   4.25000000e+01,   4.27500000e+01,\n",
       "          1.34500000e+02,   3.55000000e+01,   3.01000000e+02,\n",
       "          2.91500000e+02,   3.00500000e+02,   8.93000000e+02,\n",
       "          1.78650000e+03],\n",
       "       [  2.60000000e+01,   9.76000000e+02,   7.57000000e+02,\n",
       "          6.66000000e+02,   2.39900000e+03,   2.20000000e+01,\n",
       "          9.60000000e+01,   1.02000000e+02,   8.40000000e+01,\n",
       "          2.82000000e+02,   4.80000000e+01,   1.07200000e+03,\n",
       "          8.59000000e+02,   7.50000000e+02,   2.68100000e+03,\n",
       "          5.68400000e+03],\n",
       "       [  1.95454545e+01,   1.34454545e+02,   1.25454545e+02,\n",
       "          1.38272727e+02,   3.98181818e+02,   1.74545455e+01,\n",
       "          3.85454545e+01,   3.84545455e+01,   3.82727273e+01,\n",
       "          1.15272727e+02,   3.70000000e+01,   1.73000000e+02,\n",
       "          1.63909091e+02,   1.76545455e+02,   5.13454545e+02,\n",
       "          1.02336364e+03],\n",
       "       [  1.80000000e+01,   5.28666667e+01,   6.58666667e+01,\n",
       "          6.82000000e+01,   1.86933333e+02,   1.46666667e+01,\n",
       "          1.40666667e+01,   1.46000000e+01,   1.53333333e+01,\n",
       "          4.40000000e+01,   3.26666667e+01,   6.69333333e+01,\n",
       "          8.04666667e+01,   8.35333333e+01,   2.30933333e+02,\n",
       "          4.45266667e+02]])"
      ]
     },
     "execution_count": 11,
     "metadata": {},
     "output_type": "execute_result"
    }
   ],
   "source": [
    "no_of_clusters = 5\n",
    "k_means(olympics_data, no_of_clusters)"
   ]
  }
 ],
 "metadata": {
  "kernelspec": {
   "display_name": "Python 3",
   "language": "python",
   "name": "python3"
  },
  "language_info": {
   "codemirror_mode": {
    "name": "ipython",
    "version": 3
   },
   "file_extension": ".py",
   "mimetype": "text/x-python",
   "name": "python",
   "nbconvert_exporter": "python",
   "pygments_lexer": "ipython3",
   "version": "3.6.1"
  }
 },
 "nbformat": 4,
 "nbformat_minor": 2
}
