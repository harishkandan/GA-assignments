{
 "cells": [
  {
   "cell_type": "markdown",
   "metadata": {},
   "source": [
    "# Task: Making `Complex_Numbers` Package:"
   ]
  },
  {
   "cell_type": "markdown",
   "metadata": {},
   "source": [
    "Note:\n",
    "\n",
    "* You are not allowed to use any internal `complex number` library or a python package.\n",
    "\n",
    "Define a class called `complex_number` which accepts 2 parameters:\n",
    "\n",
    "* x: int64, float64, represents real component of the complex number\n",
    "* y: int64, float64, represents imaginary component of the complex number\n",
    "\n",
    "Example, `complex_number(3, 5)` means 3 is the real part of the complex number and 5 is the imaginary part of the complex number. Such a number is represented as 3 + 5i.\n",
    "\n",
    "Here is [a resource](http://www.careerbless.com/aptitude/qa/complex_numbers_imp.php) to help you with the required information to solve this assignment. You can take help from other online resources as well.\n",
    "\n",
    "### Questions:\n",
    "\n",
    "Define the follwoing operations for the class: \n",
    "\n",
    "* representation in the form of x + yi when used with `print` command\n",
    "* '+'\n",
    "* '-'\n",
    "* '*'\n",
    "* '/'\n",
    "* abs()\n",
    "\n",
    "* Note that these operations should be compatible with `int` and `float` datatypes as well\n",
    "\n",
    "Also, define following methods.\n",
    "\n",
    "\n",
    "* real() [Returns real component of the complex number]\n",
    "* imag() [Returns complex component of the complex number]\n",
    "* argument() [Returns argument of the complex number]\n",
    "* conjugate() [Returns conjugate of the complex number]\n",
    "\n",
    "Include error handling"
   ]
  },
  {
   "cell_type": "code",
   "execution_count": 1,
   "metadata": {
    "collapsed": true
   },
   "outputs": [],
   "source": [
    "import math\n",
    "class complex_number:\n",
    "    \n",
    "    def __init__(self, r = 0, i = 0):\n",
    "        self.r = r\n",
    "        self.i = i\n",
    "    \n",
    "    def __repr__(self):\n",
    "        if self.i > 0:\n",
    "            return '{} + {}i'.format(self.r, self.i)\n",
    "        elif self.i < 0:\n",
    "            return '{} - {}i'.format(self.r, abs(self.i))\n",
    "        else:\n",
    "            return '{}'.format(self.r)\n",
    "    def __add__(self, other):\n",
    "        if isinstance(other, int) or isinstance(other, float):\n",
    "            other = complex_number(other, 0)\n",
    "        real_part = self.r + other.r\n",
    "        complex_number_part = self.i + other.i\n",
    "        return complex_number(real_part, complex_number_part)\n",
    "    \n",
    "    def __radd__(self, other):\n",
    "        return self + other\n",
    "    \n",
    "    def __sub__(self, other):\n",
    "        if isinstance(other, int) or isinstance(other, float):\n",
    "            other = complex_number(other, 0)\n",
    "        real_part = self.r - other.r\n",
    "        complex_number_part = self.i - other.i\n",
    "        return complex_number(real_part, complex_number_part)\n",
    "    \n",
    "    def __rsub__(self, other):\n",
    "        return self - other\n",
    "    \n",
    "    def __mul__(self, other):\n",
    "        if isinstance(other, int) or isinstance(other, float):\n",
    "            other = complex_number(other, 0)\n",
    "        real_part = (self.r * other.r) - (self.i * other.i)\n",
    "        complex_number_part = (self.r * other.i) + (self.i * other.r)\n",
    "        return complex_number(real_part, complex_number_part)\n",
    "    \n",
    "    def __rmul__(self, other):\n",
    "        return self * other\n",
    "    def __truediv__(self, other):\n",
    "        if isinstance(other, int) or isinstance(other, float):\n",
    "            other = complex_number(other, 0)\n",
    "        if abs(other) == 0:\n",
    "            return 'Not defined'\n",
    "        numerator = self * other.conjugate()\n",
    "        denominator = abs(other)*abs(other)\n",
    "        return complex_number((numerator.r / denominator), (numerator.i / denominator))\n",
    "    \n",
    "    def __rtruediv__(self, other):\n",
    "        return complex_number(other, 0) / self\n",
    "    \n",
    "    def __abs__(self):\n",
    "        return math.sqrt(self.r*self.r + self.i*self.i)\n",
    "    \n",
    "    def real(self):\n",
    "        return self.r\n",
    "    \n",
    "    def imag(self):\n",
    "        return self.i\n",
    "    \n",
    "    def argument(self):\n",
    "        if self.r > 0 and self.i > 0:\n",
    "            return math.degrees(math.atan(self.i / self.r))\n",
    "        elif self.r > 0 and self.i < 0:\n",
    "            return 360 - math.degrees(math.atan(abs(self.i) / self.r))\n",
    "        elif self.r < 0 and self.i > 0:\n",
    "            return 180 - math.degrees(math.atan(self.i / abs(self.r)))\n",
    "        elif self.r < 0 and self.i < 0:\n",
    "            return 180 + math.degrees(math.atan(abs(self.i) / abs(self.r)))\n",
    "        if self.r == 0:\n",
    "            if self.i > 0:\n",
    "                return 90\n",
    "            elif self.i < 0:\n",
    "                return 270\n",
    "        if self.i == 0:\n",
    "            if self.r > 0:\n",
    "                return 0\n",
    "            elif self.r < 0:\n",
    "                return 180\n",
    "        if self.r == 0 and self.i == 0:\n",
    "            return 'Not defined'\n",
    "    \n",
    "    def conjugate(self):\n",
    "        return complex_number(self.r, (-1 * self.i))"
   ]
  },
  {
   "cell_type": "code",
   "execution_count": 2,
   "metadata": {
    "collapsed": true
   },
   "outputs": [],
   "source": [
    "x = complex_number(3, 4)\n",
    "y = complex_number(1.2, 3.6)"
   ]
  },
  {
   "cell_type": "markdown",
   "metadata": {},
   "source": [
    "# Tests for addition"
   ]
  },
  {
   "cell_type": "code",
   "execution_count": 3,
   "metadata": {},
   "outputs": [
    {
     "name": "stdout",
     "output_type": "stream",
     "text": [
      "4.2 + 7.6i\n",
      "12 + 4i\n",
      "12.0 + 4i\n"
     ]
    }
   ],
   "source": [
    "print (x + y)\n",
    "print (x  + 9)\n",
    "print (9.0 + x)"
   ]
  },
  {
   "cell_type": "markdown",
   "metadata": {},
   "source": [
    "# Tests for subtraction"
   ]
  },
  {
   "cell_type": "code",
   "execution_count": 4,
   "metadata": {},
   "outputs": [
    {
     "name": "stdout",
     "output_type": "stream",
     "text": [
      "1.8 + 0.3999999999999999i\n",
      "0 + 4i\n",
      "1 + 4i\n"
     ]
    }
   ],
   "source": [
    "print (x - y)\n",
    "print (x - 3)\n",
    "print (2 - x)"
   ]
  },
  {
   "cell_type": "markdown",
   "metadata": {},
   "source": [
    "# Tests for multiplication"
   ]
  },
  {
   "cell_type": "code",
   "execution_count": 5,
   "metadata": {},
   "outputs": [
    {
     "name": "stdout",
     "output_type": "stream",
     "text": [
      "-10.8 + 15.600000000000001i\n",
      "6 + 8i\n",
      "9 + 12i\n"
     ]
    }
   ],
   "source": [
    "print (x * y)\n",
    "print (x * 2)\n",
    "print (3 * x)"
   ]
  },
  {
   "cell_type": "markdown",
   "metadata": {},
   "source": [
    "# Tests for division"
   ]
  },
  {
   "cell_type": "code",
   "execution_count": 6,
   "metadata": {},
   "outputs": [
    {
     "name": "stdout",
     "output_type": "stream",
     "text": [
      "1.2500000000000002 - 0.4166666666666668i\n",
      "1.5 + 2.0i\n",
      "0.24 - 0.32i\n"
     ]
    }
   ],
   "source": [
    "print (x / y)\n",
    "print (x / 2)\n",
    "print (2 / x)"
   ]
  },
  {
   "cell_type": "markdown",
   "metadata": {},
   "source": [
    "# Division by zero in complex numbers"
   ]
  },
  {
   "cell_type": "code",
   "execution_count": 7,
   "metadata": {},
   "outputs": [
    {
     "data": {
      "text/plain": [
       "'Not defined'"
      ]
     },
     "execution_count": 7,
     "metadata": {},
     "output_type": "execute_result"
    }
   ],
   "source": [
    "z = complex_number(0, 0)\n",
    "x / z"
   ]
  },
  {
   "cell_type": "markdown",
   "metadata": {},
   "source": [
    "# Functions for absolute values, real and imaginary parts, and conjugates of complex numbers"
   ]
  },
  {
   "cell_type": "code",
   "execution_count": 8,
   "metadata": {},
   "outputs": [
    {
     "data": {
      "text/plain": [
       "3.794733192202055"
      ]
     },
     "execution_count": 8,
     "metadata": {},
     "output_type": "execute_result"
    }
   ],
   "source": [
    "abs(y)"
   ]
  },
  {
   "cell_type": "code",
   "execution_count": 9,
   "metadata": {},
   "outputs": [
    {
     "data": {
      "text/plain": [
       "3"
      ]
     },
     "execution_count": 9,
     "metadata": {},
     "output_type": "execute_result"
    }
   ],
   "source": [
    "x.real()"
   ]
  },
  {
   "cell_type": "code",
   "execution_count": 10,
   "metadata": {},
   "outputs": [
    {
     "data": {
      "text/plain": [
       "4"
      ]
     },
     "execution_count": 10,
     "metadata": {},
     "output_type": "execute_result"
    }
   ],
   "source": [
    "x.imag()"
   ]
  },
  {
   "cell_type": "code",
   "execution_count": 11,
   "metadata": {},
   "outputs": [
    {
     "data": {
      "text/plain": [
       "3 - 4i"
      ]
     },
     "execution_count": 11,
     "metadata": {},
     "output_type": "execute_result"
    }
   ],
   "source": [
    "x.conjugate()"
   ]
  },
  {
   "cell_type": "markdown",
   "metadata": {},
   "source": [
    "# Tests for argument of complex numbers on each quadrants"
   ]
  },
  {
   "cell_type": "code",
   "execution_count": 12,
   "metadata": {},
   "outputs": [
    {
     "data": {
      "text/plain": [
       "30.000000000000004"
      ]
     },
     "execution_count": 12,
     "metadata": {},
     "output_type": "execute_result"
    }
   ],
   "source": [
    "z = complex_number(math.sqrt(3), 1)\n",
    "z.argument()"
   ]
  },
  {
   "cell_type": "code",
   "execution_count": 13,
   "metadata": {},
   "outputs": [
    {
     "data": {
      "text/plain": [
       "150.0"
      ]
     },
     "execution_count": 13,
     "metadata": {},
     "output_type": "execute_result"
    }
   ],
   "source": [
    "z = complex_number(-math.sqrt(3), 1)\n",
    "z.argument()"
   ]
  },
  {
   "cell_type": "code",
   "execution_count": 14,
   "metadata": {},
   "outputs": [
    {
     "data": {
      "text/plain": [
       "210.0"
      ]
     },
     "execution_count": 14,
     "metadata": {},
     "output_type": "execute_result"
    }
   ],
   "source": [
    "z = complex_number(-math.sqrt(3), -1)\n",
    "z.argument()"
   ]
  },
  {
   "cell_type": "code",
   "execution_count": 15,
   "metadata": {},
   "outputs": [
    {
     "data": {
      "text/plain": [
       "330.0"
      ]
     },
     "execution_count": 15,
     "metadata": {},
     "output_type": "execute_result"
    }
   ],
   "source": [
    "z = complex_number(math.sqrt(3), -1)\n",
    "z.argument()"
   ]
  },
  {
   "cell_type": "markdown",
   "metadata": {},
   "source": [
    "# Tests for argument of complex numbers on each axes on both positive and negative sides."
   ]
  },
  {
   "cell_type": "code",
   "execution_count": 16,
   "metadata": {},
   "outputs": [
    {
     "data": {
      "text/plain": [
       "90"
      ]
     },
     "execution_count": 16,
     "metadata": {},
     "output_type": "execute_result"
    }
   ],
   "source": [
    "z = complex_number(0, 1)\n",
    "z.argument()"
   ]
  },
  {
   "cell_type": "code",
   "execution_count": 17,
   "metadata": {},
   "outputs": [
    {
     "data": {
      "text/plain": [
       "270"
      ]
     },
     "execution_count": 17,
     "metadata": {},
     "output_type": "execute_result"
    }
   ],
   "source": [
    "z = complex_number(0, -1)\n",
    "z.argument()"
   ]
  },
  {
   "cell_type": "code",
   "execution_count": 18,
   "metadata": {},
   "outputs": [
    {
     "data": {
      "text/plain": [
       "0"
      ]
     },
     "execution_count": 18,
     "metadata": {},
     "output_type": "execute_result"
    }
   ],
   "source": [
    "z = complex_number(1, 0)\n",
    "z.argument()"
   ]
  },
  {
   "cell_type": "code",
   "execution_count": 19,
   "metadata": {},
   "outputs": [
    {
     "data": {
      "text/plain": [
       "180"
      ]
     },
     "execution_count": 19,
     "metadata": {},
     "output_type": "execute_result"
    }
   ],
   "source": [
    "z = complex_number(-1, 0)\n",
    "z.argument()"
   ]
  },
  {
   "cell_type": "markdown",
   "metadata": {},
   "source": [
    "# Special case where the complex number is 0 + 0i"
   ]
  },
  {
   "cell_type": "code",
   "execution_count": 20,
   "metadata": {},
   "outputs": [
    {
     "data": {
      "text/plain": [
       "'Not defined'"
      ]
     },
     "execution_count": 20,
     "metadata": {},
     "output_type": "execute_result"
    }
   ],
   "source": [
    "z = complex_number(0, 0)\n",
    "z.argument()"
   ]
  }
 ],
 "metadata": {
  "kernelspec": {
   "display_name": "Python 3",
   "language": "python",
   "name": "python3"
  },
  "language_info": {
   "codemirror_mode": {
    "name": "ipython",
    "version": 3
   },
   "file_extension": ".py",
   "mimetype": "text/x-python",
   "name": "python",
   "nbconvert_exporter": "python",
   "pygments_lexer": "ipython3",
   "version": "3.6.1"
  },
  "widgets": {
   "state": {},
   "version": "1.1.2"
  }
 },
 "nbformat": 4,
 "nbformat_minor": 2
}
